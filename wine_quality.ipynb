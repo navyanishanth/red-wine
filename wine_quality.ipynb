{
  "nbformat": 4,
  "nbformat_minor": 0,
  "metadata": {
    "colab": {
      "name": "wine_quality.ipynb",
      "provenance": [],
      "collapsed_sections": [],
      "toc_visible": true,
      "include_colab_link": true
    },
    "kernelspec": {
      "name": "python3",
      "display_name": "Python 3"
    }
  },
  "cells": [
    {
      "cell_type": "markdown",
      "metadata": {
        "id": "view-in-github",
        "colab_type": "text"
      },
      "source": [
        "<a href=\"https://colab.research.google.com/github/navyanishanth/red-wine/blob/master/wine_quality.ipynb\" target=\"_parent\"><img src=\"https://colab.research.google.com/assets/colab-badge.svg\" alt=\"Open In Colab\"/></a>"
      ]
    },
    {
      "cell_type": "markdown",
      "metadata": {
        "id": "v0hMcwhsoC3j",
        "colab_type": "text"
      },
      "source": [
        "#_classification_"
      ]
    },
    {
      "cell_type": "markdown",
      "metadata": {
        "id": "YNWksD5skPX_",
        "colab_type": "text"
      },
      "source": [
        "#importing"
      ]
    },
    {
      "cell_type": "code",
      "metadata": {
        "id": "thd4P79OiNwD",
        "colab_type": "code",
        "colab": {
          "base_uri": "https://localhost:8080/",
          "height": 340
        },
        "outputId": "27aad009-ce70-4c5d-d2df-431213b531f4"
      },
      "source": [
        "import numpy as np\n",
        "import pandas as pd\n",
        "data=pd.read_csv('/content/red wine quality dataset.csv')\n",
        "data.info()"
      ],
      "execution_count": null,
      "outputs": [
        {
          "output_type": "stream",
          "text": [
            "<class 'pandas.core.frame.DataFrame'>\n",
            "RangeIndex: 1599 entries, 0 to 1598\n",
            "Data columns (total 12 columns):\n",
            " #   Column                Non-Null Count  Dtype  \n",
            "---  ------                --------------  -----  \n",
            " 0   fixed acidity         1599 non-null   float64\n",
            " 1   volatile acidity      1599 non-null   float64\n",
            " 2   citric acid           1599 non-null   float64\n",
            " 3   residual sugar        1599 non-null   float64\n",
            " 4   chlorides             1599 non-null   float64\n",
            " 5   free sulfur dioxide   1599 non-null   float64\n",
            " 6   total sulfur dioxide  1599 non-null   float64\n",
            " 7   density               1599 non-null   float64\n",
            " 8   pH                    1599 non-null   float64\n",
            " 9   sulphates             1599 non-null   float64\n",
            " 10  alcohol               1599 non-null   float64\n",
            " 11  quality               1599 non-null   int64  \n",
            "dtypes: float64(11), int64(1)\n",
            "memory usage: 150.0 KB\n"
          ],
          "name": "stdout"
        }
      ]
    },
    {
      "cell_type": "markdown",
      "metadata": {
        "id": "ViJh-SlykOVv",
        "colab_type": "text"
      },
      "source": [
        "#splitting data "
      ]
    },
    {
      "cell_type": "code",
      "metadata": {
        "id": "NDKpjNc9kZ9f",
        "colab_type": "code",
        "colab": {}
      },
      "source": [
        "x=data.iloc[:,:-1].values\n",
        "y=data.iloc[:,-1].values\n",
        "from sklearn.model_selection import train_test_split\n",
        "x_train,x_test,y_train,y_test= train_test_split(x,y)"
      ],
      "execution_count": null,
      "outputs": []
    },
    {
      "cell_type": "markdown",
      "metadata": {
        "id": "eSEjPZsJkwf3",
        "colab_type": "text"
      },
      "source": [
        "#standardizing\n"
      ]
    },
    {
      "cell_type": "code",
      "metadata": {
        "id": "nf2NwF_zkr3k",
        "colab_type": "code",
        "colab": {}
      },
      "source": [
        "\n",
        "from sklearn.preprocessing import StandardScaler\n",
        "sc=StandardScaler()\n",
        "x_train=sc.fit_transform(x_train)\n",
        "x_test=sc.transform(x_test)"
      ],
      "execution_count": null,
      "outputs": []
    },
    {
      "cell_type": "code",
      "metadata": {
        "id": "zRXBOkjQsDV8",
        "colab_type": "code",
        "colab": {}
      },
      "source": [
        "from sklearn.ensemble import RandomForestClassifier\n",
        "from sklearn.linear_model import  LogisticRegression\n",
        "from sklearn.tree import DecisionTreeClassifier\n",
        "from sklearn.neighbors import KNeighborsClassifier\n",
        "from sklearn.svm import SVC"
      ],
      "execution_count": null,
      "outputs": []
    },
    {
      "cell_type": "markdown",
      "metadata": {
        "id": "gB_31K2vlF4v",
        "colab_type": "text"
      },
      "source": [
        "#different classifiers"
      ]
    },
    {
      "cell_type": "code",
      "metadata": {
        "id": "JO5qi24Kie8M",
        "colab_type": "code",
        "colab": {}
      },
      "source": [
        "r_reg=RandomForestClassifier(n_estimators=200)\n",
        "l_reg=LogisticRegression()\n",
        "d_reg=DecisionTreeClassifier()\n",
        "k_reg=KNeighborsClassifier()\n",
        "s_reg=SVC()"
      ],
      "execution_count": null,
      "outputs": []
    },
    {
      "cell_type": "code",
      "metadata": {
        "id": "KrcbEM0Oir2Q",
        "colab_type": "code",
        "colab": {
          "base_uri": "https://localhost:8080/",
          "height": 85
        },
        "outputId": "fbd604a9-06f1-40a9-f468-dd9719e8d8d6"
      },
      "source": [
        "r_reg.fit(x_train,y_train)\n",
        "l_reg.fit(x_train,y_train)\n",
        "d_reg.fit(x_train,y_train)\n",
        "k_reg.fit(x_train,y_train)\n",
        "s_reg.fit(x_train,y_train)"
      ],
      "execution_count": null,
      "outputs": [
        {
          "output_type": "execute_result",
          "data": {
            "text/plain": [
              "SVC(C=1.0, break_ties=False, cache_size=200, class_weight=None, coef0=0.0,\n",
              "    decision_function_shape='ovr', degree=3, gamma='scale', kernel='rbf',\n",
              "    max_iter=-1, probability=False, random_state=None, shrinking=True,\n",
              "    tol=0.001, verbose=False)"
            ]
          },
          "metadata": {
            "tags": []
          },
          "execution_count": 6
        }
      ]
    },
    {
      "cell_type": "markdown",
      "metadata": {
        "id": "WIpKYCwtlS25",
        "colab_type": "text"
      },
      "source": [
        "#predicting data"
      ]
    },
    {
      "cell_type": "code",
      "metadata": {
        "id": "BZtKLeMCiweQ",
        "colab_type": "code",
        "colab": {}
      },
      "source": [
        "r_pred=r_reg.predict(x_test)\n",
        "l_pred=l_reg.predict(x_test)\n",
        "d_pred=d_reg.predict(x_test)\n",
        "k_pred=k_reg.predict(x_test)\n",
        "s_pred=s_reg.predict(x_test)"
      ],
      "execution_count": null,
      "outputs": []
    },
    {
      "cell_type": "markdown",
      "metadata": {
        "id": "AGjsyQMglYe-",
        "colab_type": "text"
      },
      "source": [
        "#accuracy"
      ]
    },
    {
      "cell_type": "code",
      "metadata": {
        "id": "SMWcUAJqi6aA",
        "colab_type": "code",
        "colab": {
          "base_uri": "https://localhost:8080/",
          "height": 102
        },
        "outputId": "45a3e509-b9dc-4d87-cd6c-47655d0576a0"
      },
      "source": [
        "\n",
        "from sklearn.metrics import accuracy_score\n",
        "r=accuracy_score(y_test,r_pred)\n",
        "l=accuracy_score(y_test,l_pred)\n",
        "d=accuracy_score(y_test,d_pred)\n",
        "k=accuracy_score(y_test,k_pred)\n",
        "s=accuracy_score(y_test,s_pred)\n",
        "print('RandomForestClassifier=',r)\n",
        "print('LogisticRegression=',l)\n",
        "print('DecisionTreeClassifier=',d)\n",
        "print('KNeighborsClassifier',k)\n",
        "print('SVC=',s)"
      ],
      "execution_count": null,
      "outputs": [
        {
          "output_type": "stream",
          "text": [
            "RandomForestClassifier= 0.6675\n",
            "LogisticRegression= 0.55\n",
            "DecisionTreeClassifier= 0.58\n",
            "KNeighborsClassifier 0.5425\n",
            "SVC= 0.5975\n"
          ],
          "name": "stdout"
        }
      ]
    },
    {
      "cell_type": "markdown",
      "metadata": {
        "id": "jqYKqtG5r6J9",
        "colab_type": "text"
      },
      "source": [
        "here more accuary is shown in randomforest classifier.so this is the best model for the data"
      ]
    },
    {
      "cell_type": "markdown",
      "metadata": {
        "id": "FQ6x2fLcoktD",
        "colab_type": "text"
      },
      "source": [
        "#_regression_"
      ]
    },
    {
      "cell_type": "markdown",
      "metadata": {
        "id": "sneV8OzXlfC8",
        "colab_type": "text"
      },
      "source": [
        "#importing"
      ]
    },
    {
      "cell_type": "code",
      "metadata": {
        "id": "3CHgrwmrooLq",
        "colab_type": "code",
        "colab": {}
      },
      "source": [
        "from sklearn.linear_model import LinearRegression\n",
        "from sklearn.preprocessing import PolynomialFeatures\n",
        "from sklearn.tree import DecisionTreeRegressor\n",
        "from sklearn.ensemble import RandomForestRegressor\n",
        "\n"
      ],
      "execution_count": null,
      "outputs": []
    },
    {
      "cell_type": "code",
      "metadata": {
        "id": "HNufHEATorn3",
        "colab_type": "code",
        "colab": {}
      },
      "source": [
        "m_reg=LinearRegression()\n",
        "p_reg=LinearRegression()\n",
        "d_reg=DecisionTreeRegressor()\n",
        "r_reg=RandomForestRegressor()\n"
      ],
      "execution_count": null,
      "outputs": []
    },
    {
      "cell_type": "markdown",
      "metadata": {
        "id": "2jPyn9xhlnmY",
        "colab_type": "text"
      },
      "source": [
        "#polynomial fitting"
      ]
    },
    {
      "cell_type": "code",
      "metadata": {
        "id": "Aai97gE9ougS",
        "colab_type": "code",
        "colab": {}
      },
      "source": [
        "x_poly=PolynomialFeatures(degree=2)\n",
        "x_poly=x_poly.fit_transform(x_train)"
      ],
      "execution_count": null,
      "outputs": []
    },
    {
      "cell_type": "code",
      "metadata": {
        "id": "ji8h3x_1owDr",
        "colab_type": "code",
        "colab": {
          "base_uri": "https://localhost:8080/",
          "height": 136
        },
        "outputId": "10b24811-c73e-4e65-abc5-0169e6f0a7ab"
      },
      "source": [
        "m_reg.fit(x_train,y_train)\n",
        "p_reg.fit(x_poly,y_train)\n",
        "d_reg.fit(x_train,y_train)\n",
        "r_reg.fit(x_train,y_train)\n"
      ],
      "execution_count": null,
      "outputs": [
        {
          "output_type": "execute_result",
          "data": {
            "text/plain": [
              "RandomForestRegressor(bootstrap=True, ccp_alpha=0.0, criterion='mse',\n",
              "                      max_depth=None, max_features='auto', max_leaf_nodes=None,\n",
              "                      max_samples=None, min_impurity_decrease=0.0,\n",
              "                      min_impurity_split=None, min_samples_leaf=1,\n",
              "                      min_samples_split=2, min_weight_fraction_leaf=0.0,\n",
              "                      n_estimators=100, n_jobs=None, oob_score=False,\n",
              "                      random_state=None, verbose=0, warm_start=False)"
            ]
          },
          "metadata": {
            "tags": []
          },
          "execution_count": 12
        }
      ]
    },
    {
      "cell_type": "markdown",
      "metadata": {
        "id": "O85gc7ytlu2M",
        "colab_type": "text"
      },
      "source": [
        "#predicting data"
      ]
    },
    {
      "cell_type": "code",
      "metadata": {
        "id": "R1oj8POcoyFt",
        "colab_type": "code",
        "colab": {}
      },
      "source": [
        "temp=PolynomialFeatures(degree=2)\n",
        "temp=temp.fit_transform(x_test)\n",
        "m_pred=m_reg.predict(x_test)\n",
        "p_pred=p_reg.predict(temp)\n",
        "d_pred=d_reg.predict(x_test)\n",
        "r_pred=r_reg.predict(x_test)"
      ],
      "execution_count": null,
      "outputs": []
    },
    {
      "cell_type": "markdown",
      "metadata": {
        "id": "8INwKnrylzoH",
        "colab_type": "text"
      },
      "source": [
        "#displaying data"
      ]
    },
    {
      "cell_type": "code",
      "metadata": {
        "id": "t8i5PapQozLh",
        "colab_type": "code",
        "colab": {
          "base_uri": "https://localhost:8080/",
          "height": 85
        },
        "outputId": "66a912b9-2aae-4845-a053-eb25088d4b5c"
      },
      "source": [
        "from sklearn.metrics import r2_score\n",
        "m =r2_score(y_test,m_pred)\n",
        "p =r2_score(y_test,p_pred)\n",
        "d =r2_score(y_test,d_pred)\n",
        "r =r2_score(y_test,r_pred)\n",
        "print(\"LinearRegression=\",m)\n",
        "print(\"PolynomialFeatures=\",p)\n",
        "print(\"DecisionTreeRegressor=\",d)\n",
        "print(\"RandomForestRegressor=\",r)"
      ],
      "execution_count": null,
      "outputs": [
        {
          "output_type": "stream",
          "text": [
            "LinearRegression= 0.2666714091064176\n",
            "PolynomialFeatures= 0.28332543113156006\n",
            "DecisionTreeRegressor= 0.084173604051616\n",
            "RandomForestRegressor= 0.3743861673581156\n"
          ],
          "name": "stdout"
        }
      ]
    },
    {
      "cell_type": "markdown",
      "metadata": {
        "id": "Mh-vbN7AsKqr",
        "colab_type": "text"
      },
      "source": [
        "here random forest regression shows more accuary than other models"
      ]
    }
  ]
}